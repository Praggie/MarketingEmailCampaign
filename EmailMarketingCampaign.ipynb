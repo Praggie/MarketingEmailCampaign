{
 "cells": [
  {
   "cell_type": "code",
   "execution_count": 1,
   "metadata": {
    "collapsed": false
   },
   "outputs": [],
   "source": [
    "import numpy as np\n",
    "import pandas as pd\n",
    "import matplotlib.pyplot as plt\n",
    "from sklearn.model_selection import train_test_split\n",
    "from sklearn.linear_model import LogisticRegression\n",
    "from sklearn.ensemble import RandomForestClassifier, GradientBoostingClassifier\n",
    "from sklearn.svm import SVC\n",
    "from sklearn.metrics import recall_score, confusion_matrix, roc_curve, auc\n",
    "from sklearn.model_selection import GridSearchCV\n",
    "%matplotlib inline"
   ]
  },
  {
   "cell_type": "code",
   "execution_count": 2,
   "metadata": {
    "collapsed": false
   },
   "outputs": [],
   "source": [
    "# Load and inspect the data\n",
    "email_tbl = pd.read_csv('email/email_table.csv')\n",
    "email_opened_tbl = pd.read_csv('email/email_opened_table.csv')\n",
    "link_clicked_tbl = pd.read_csv('email/link_clicked_table.csv')"
   ]
  },
  {
   "cell_type": "code",
   "execution_count": 3,
   "metadata": {
    "collapsed": false
   },
   "outputs": [
    {
     "name": "stdout",
     "output_type": "stream",
     "text": [
      "<class 'pandas.core.frame.DataFrame'>\n",
      "RangeIndex: 100000 entries, 0 to 99999\n",
      "Data columns (total 7 columns):\n",
      "email_id               100000 non-null int64\n",
      "email_text             100000 non-null object\n",
      "email_version          100000 non-null object\n",
      "hour                   100000 non-null int64\n",
      "weekday                100000 non-null object\n",
      "user_country           100000 non-null object\n",
      "user_past_purchases    100000 non-null int64\n",
      "dtypes: int64(3), object(4)\n",
      "memory usage: 5.3+ MB\n"
     ]
    }
   ],
   "source": [
    "email_tbl.info()"
   ]
  },
  {
   "cell_type": "code",
   "execution_count": 4,
   "metadata": {
    "collapsed": false
   },
   "outputs": [
    {
     "name": "stdout",
     "output_type": "stream",
     "text": [
      "<class 'pandas.core.frame.DataFrame'>\n",
      "RangeIndex: 10345 entries, 0 to 10344\n",
      "Data columns (total 1 columns):\n",
      "email_id    10345 non-null int64\n",
      "dtypes: int64(1)\n",
      "memory usage: 80.9 KB\n"
     ]
    }
   ],
   "source": [
    "email_opened_tbl.info()"
   ]
  },
  {
   "cell_type": "code",
   "execution_count": 5,
   "metadata": {
    "collapsed": false
   },
   "outputs": [
    {
     "name": "stdout",
     "output_type": "stream",
     "text": [
      "<class 'pandas.core.frame.DataFrame'>\n",
      "RangeIndex: 2119 entries, 0 to 2118\n",
      "Data columns (total 1 columns):\n",
      "email_id    2119 non-null int64\n",
      "dtypes: int64(1)\n",
      "memory usage: 16.6 KB\n"
     ]
    }
   ],
   "source": [
    "link_clicked_tbl.info()"
   ]
  },
  {
   "cell_type": "markdown",
   "metadata": {},
   "source": [
    "Q. What percentage of users opened the email and what percentage clicked on the link\n",
    "within the email?"
   ]
  },
  {
   "cell_type": "code",
   "execution_count": 6,
   "metadata": {
    "collapsed": false
   },
   "outputs": [
    {
     "name": "stdout",
     "output_type": "stream",
     "text": [
      "Percent opened 10.345\n",
      "Percent clicked 2.119\n"
     ]
    }
   ],
   "source": [
    "percent_opened = (email_tbl[email_tbl.email_id.isin(email_opened_tbl.email_id)].shape[0] / float(email_tbl.shape[0]))*100\n",
    "percent_clicked = (email_tbl[email_tbl.email_id.isin(link_clicked_tbl.email_id)].shape[0] / float(email_tbl.shape[0]))*100\n",
    "print \"Percent opened {0}\".format(percent_opened)\n",
    "print \"Percent clicked {0}\".format(percent_clicked)"
   ]
  },
  {
   "cell_type": "markdown",
   "metadata": {},
   "source": [
    "Q. The VP of marketing thinks that it is stupid to send emails to a random subset and in a\n",
    "random way. Based on all the information you have about the emails that were sent, can\n",
    "you build a model to optimize in future email campaigns to maximize the probability of\n",
    "users clicking on the link inside the email?"
   ]
  },
  {
   "cell_type": "code",
   "execution_count": 7,
   "metadata": {
    "collapsed": false
   },
   "outputs": [
    {
     "data": {
      "text/plain": [
       "{'boxes': [<matplotlib.lines.Line2D at 0xc78fa90>],\n",
       " 'caps': [<matplotlib.lines.Line2D at 0xc564748>,\n",
       "  <matplotlib.lines.Line2D at 0xc564cc0>],\n",
       " 'fliers': [<matplotlib.lines.Line2D at 0xc5757f0>],\n",
       " 'means': [],\n",
       " 'medians': [<matplotlib.lines.Line2D at 0xc575278>],\n",
       " 'whiskers': [<matplotlib.lines.Line2D at 0xc78fba8>,\n",
       "  <matplotlib.lines.Line2D at 0xc5641d0>]}"
      ]
     },
     "execution_count": 7,
     "metadata": {},
     "output_type": "execute_result"
    },
    {
     "data": {
      "image/png": "[encoded data removed]",
      "text/plain": [
       "<matplotlib.figure.Figure at 0xc17eb70>"
      ]
     },
     "metadata": {},
     "output_type": "display_data"
    }
   ],
   "source": [
    "# Create a boxplot of past user purchases\n",
    "plt.boxplot(email_tbl.user_past_purchases)"
   ]
  },
  {
   "cell_type": "code",
   "execution_count": 8,
   "metadata": {
    "collapsed": true
   },
   "outputs": [],
   "source": [
    "# Remove outliers\n",
    "non_outliers = email_tbl[email_tbl.user_past_purchases < 12]"
   ]
  },
  {
   "cell_type": "code",
   "execution_count": 9,
   "metadata": {
    "collapsed": false
   },
   "outputs": [
    {
     "name": "stderr",
     "output_type": "stream",
     "text": [
      "C:\\Users\\daryleserrant\\Anaconda2\\lib\\site-packages\\ipykernel\\__main__.py:3: SettingWithCopyWarning: \n",
      "A value is trying to be set on a copy of a slice from a DataFrame.\n",
      "Try using .loc[row_indexer,col_indexer] = value instead\n",
      "\n",
      "See the caveats in the documentation: http://pandas.pydata.org/pandas-docs/stable/indexing.html#indexing-view-versus-copy\n",
      "  app.launch_new_instance()\n"
     ]
    }
   ],
   "source": [
    "# Add a 'link_clicked' column to the dataframe\n",
    "clicked_emails = set(link_clicked_tbl.email_id)\n",
    "non_outliers['link_clicked'] = non_outliers.email_id.apply((lambda x: 1 if x in clicked_emails else 0))"
   ]
  },
  {
   "cell_type": "code",
   "execution_count": 10,
   "metadata": {
    "collapsed": false
   },
   "outputs": [
    {
     "data": {
      "text/html": [
       "<div>\n",
       "<table border=\"1\" class=\"dataframe\">\n",
       "  <thead>\n",
       "    <tr style=\"text-align: right;\">\n",
       "      <th></th>\n",
       "      <th>email_id</th>\n",
       "      <th>email_text</th>\n",
       "      <th>email_version</th>\n",
       "      <th>hour</th>\n",
       "      <th>weekday</th>\n",
       "      <th>user_country</th>\n",
       "      <th>user_past_purchases</th>\n",
       "      <th>link_clicked</th>\n",
       "    </tr>\n",
       "  </thead>\n",
       "  <tbody>\n",
       "    <tr>\n",
       "      <th>0</th>\n",
       "      <td>85120</td>\n",
       "      <td>short_email</td>\n",
       "      <td>personalized</td>\n",
       "      <td>2</td>\n",
       "      <td>Sunday</td>\n",
       "      <td>US</td>\n",
       "      <td>5</td>\n",
       "      <td>0</td>\n",
       "    </tr>\n",
       "    <tr>\n",
       "      <th>1</th>\n",
       "      <td>966622</td>\n",
       "      <td>long_email</td>\n",
       "      <td>personalized</td>\n",
       "      <td>12</td>\n",
       "      <td>Sunday</td>\n",
       "      <td>UK</td>\n",
       "      <td>2</td>\n",
       "      <td>1</td>\n",
       "    </tr>\n",
       "    <tr>\n",
       "      <th>2</th>\n",
       "      <td>777221</td>\n",
       "      <td>long_email</td>\n",
       "      <td>personalized</td>\n",
       "      <td>11</td>\n",
       "      <td>Wednesday</td>\n",
       "      <td>US</td>\n",
       "      <td>2</td>\n",
       "      <td>0</td>\n",
       "    </tr>\n",
       "    <tr>\n",
       "      <th>3</th>\n",
       "      <td>493711</td>\n",
       "      <td>short_email</td>\n",
       "      <td>generic</td>\n",
       "      <td>6</td>\n",
       "      <td>Monday</td>\n",
       "      <td>UK</td>\n",
       "      <td>1</td>\n",
       "      <td>0</td>\n",
       "    </tr>\n",
       "    <tr>\n",
       "      <th>4</th>\n",
       "      <td>106887</td>\n",
       "      <td>long_email</td>\n",
       "      <td>generic</td>\n",
       "      <td>14</td>\n",
       "      <td>Monday</td>\n",
       "      <td>US</td>\n",
       "      <td>6</td>\n",
       "      <td>0</td>\n",
       "    </tr>\n",
       "  </tbody>\n",
       "</table>\n",
       "</div>"
      ],
      "text/plain": [
       "   email_id   email_text email_version  hour    weekday user_country  \\\n",
       "0     85120  short_email  personalized     2     Sunday           US   \n",
       "1    966622   long_email  personalized    12     Sunday           UK   \n",
       "2    777221   long_email  personalized    11  Wednesday           US   \n",
       "3    493711  short_email       generic     6     Monday           UK   \n",
       "4    106887   long_email       generic    14     Monday           US   \n",
       "\n",
       "   user_past_purchases  link_clicked  \n",
       "0                    5             0  \n",
       "1                    2             1  \n",
       "2                    2             0  \n",
       "3                    1             0  \n",
       "4                    6             0  "
      ]
     },
     "execution_count": 10,
     "metadata": {},
     "output_type": "execute_result"
    }
   ],
   "source": [
    "non_outliers.head()"
   ]
  },
  {
   "cell_type": "code",
   "execution_count": 11,
   "metadata": {
    "collapsed": false
   },
   "outputs": [
    {
     "data": {
      "text/plain": [
       "US    0.600942\n",
       "UK    0.199662\n",
       "FR    0.099754\n",
       "ES    0.099642\n",
       "Name: user_country, dtype: float64"
      ]
     },
     "execution_count": 11,
     "metadata": {},
     "output_type": "execute_result"
    }
   ],
   "source": [
    "non_outliers.user_country.value_counts(normalize=True)"
   ]
  },
  {
   "cell_type": "code",
   "execution_count": 12,
   "metadata": {
    "collapsed": true
   },
   "outputs": [],
   "source": [
    "# Over 90% of the user base is in the US and UK. For now, we'll simplify the problem and focus only on users in the US and UK.\n",
    "us_uk_emails = non_outliers[non_outliers.user_country.isin(['US','UK'])]"
   ]
  },
  {
   "cell_type": "code",
   "execution_count": 13,
   "metadata": {
    "collapsed": false
   },
   "outputs": [
    {
     "name": "stderr",
     "output_type": "stream",
     "text": [
      "C:\\Users\\daryleserrant\\Anaconda2\\lib\\site-packages\\ipykernel\\__main__.py:2: SettingWithCopyWarning: \n",
      "A value is trying to be set on a copy of a slice from a DataFrame.\n",
      "Try using .loc[row_indexer,col_indexer] = value instead\n",
      "\n",
      "See the caveats in the documentation: http://pandas.pydata.org/pandas-docs/stable/indexing.html#indexing-view-versus-copy\n",
      "  from ipykernel import kernelapp as app\n"
     ]
    }
   ],
   "source": [
    "# Create a binary column 'country_US' to indiciate if the user is in the US or UK\n",
    "us_uk_emails['country_US'] = us_uk_emails.user_country.apply((lambda x: 1 if x == 'US' else 0))"
   ]
  },
  {
   "cell_type": "code",
   "execution_count": 14,
   "metadata": {
    "collapsed": false
   },
   "outputs": [
    {
     "name": "stderr",
     "output_type": "stream",
     "text": [
      "C:\\Users\\daryleserrant\\Anaconda2\\lib\\site-packages\\ipykernel\\__main__.py:2: SettingWithCopyWarning: \n",
      "A value is trying to be set on a copy of a slice from a DataFrame.\n",
      "Try using .loc[row_indexer,col_indexer] = value instead\n",
      "\n",
      "See the caveats in the documentation: http://pandas.pydata.org/pandas-docs/stable/indexing.html#indexing-view-versus-copy\n",
      "  from ipykernel import kernelapp as app\n"
     ]
    }
   ],
   "source": [
    "# Create a binary column for the email text. Value is 1 for short_emails, 0 for long emails\n",
    "us_uk_emails['is_short'] = us_uk_emails.email_text.apply((lambda x: 1 if x == 'short_email' else 0))"
   ]
  },
  {
   "cell_type": "code",
   "execution_count": 15,
   "metadata": {
    "collapsed": false
   },
   "outputs": [
    {
     "name": "stderr",
     "output_type": "stream",
     "text": [
      "C:\\Users\\daryleserrant\\Anaconda2\\lib\\site-packages\\ipykernel\\__main__.py:2: SettingWithCopyWarning: \n",
      "A value is trying to be set on a copy of a slice from a DataFrame.\n",
      "Try using .loc[row_indexer,col_indexer] = value instead\n",
      "\n",
      "See the caveats in the documentation: http://pandas.pydata.org/pandas-docs/stable/indexing.html#indexing-view-versus-copy\n",
      "  from ipykernel import kernelapp as app\n"
     ]
    }
   ],
   "source": [
    "# Create a binary column for email version. Value is 1 for generic emails, 0 for personalized emails\n",
    "us_uk_emails['is_generic'] = us_uk_emails.email_version.apply((lambda x: 1 if x == 'generic' else 0))"
   ]
  },
  {
   "cell_type": "code",
   "execution_count": 16,
   "metadata": {
    "collapsed": false
   },
   "outputs": [
    {
     "data": {
      "text/plain": [
       "10    0.107761\n",
       "9     0.105528\n",
       "11    0.095477\n",
       "12    0.078169\n",
       "8     0.077052\n",
       "7     0.068677\n",
       "6     0.060302\n",
       "5     0.054160\n",
       "13    0.053043\n",
       "14    0.044668\n",
       "15    0.044109\n",
       "4     0.041318\n",
       "3     0.040759\n",
       "16    0.030709\n",
       "2     0.028476\n",
       "1     0.024567\n",
       "17    0.017309\n",
       "18    0.010609\n",
       "19    0.006700\n",
       "23    0.003350\n",
       "20    0.003350\n",
       "21    0.001675\n",
       "22    0.001675\n",
       "24    0.000558\n",
       "Name: hour, dtype: float64"
      ]
     },
     "execution_count": 16,
     "metadata": {},
     "output_type": "execute_result"
    }
   ],
   "source": [
    "us_uk_emails[us_uk_emails['link_clicked'] == 1].hour.value_counts(normalize=True)"
   ]
  },
  {
   "cell_type": "code",
   "execution_count": 17,
   "metadata": {
    "collapsed": false
   },
   "outputs": [
    {
     "name": "stderr",
     "output_type": "stream",
     "text": [
      "C:\\Users\\daryleserrant\\Anaconda2\\lib\\site-packages\\ipykernel\\__main__.py:4: SettingWithCopyWarning: \n",
      "A value is trying to be set on a copy of a slice from a DataFrame.\n",
      "Try using .loc[row_indexer,col_indexer] = value instead\n",
      "\n",
      "See the caveats in the documentation: http://pandas.pydata.org/pandas-docs/stable/indexing.html#indexing-view-versus-copy\n"
     ]
    }
   ],
   "source": [
    "# Very few people who click on the email links do so during the evening hours. We'll therefore lump these variables into a\n",
    "# a category called EVENING to reduce the number of dummy variables to create for the model.\n",
    "evening_hours = [19,20,21,22,23,24]\n",
    "us_uk_emails['hour_sent'] = us_uk_emails.hour.apply((lambda x: 'EVENING' if x in evening_hours else str(x)))"
   ]
  },
  {
   "cell_type": "code",
   "execution_count": 18,
   "metadata": {
    "collapsed": false
   },
   "outputs": [],
   "source": [
    "# Create dummy variables for the weekday and hour columns\n",
    "weekday_dummies = pd.get_dummies(us_uk_emails.weekday,prefix='weekday').drop('weekday_Sunday',axis=1)\n",
    "hour_dummies = pd.get_dummies(us_uk_emails.hour_sent,prefix='hour_sent').drop('hour_sent_EVENING',axis=1)"
   ]
  },
  {
   "cell_type": "code",
   "execution_count": 19,
   "metadata": {
    "collapsed": false
   },
   "outputs": [],
   "source": [
    "# Create the feature matrix\n",
    "df = us_uk_emails[['user_past_purchases','is_short','is_generic','link_clicked']]\n",
    "df = df.join(weekday_dummies)\n",
    "df = df.join(hour_dummies)\n",
    "y = df.pop('link_clicked').values\n",
    "X = df.values"
   ]
  },
  {
   "cell_type": "code",
   "execution_count": 20,
   "metadata": {
    "collapsed": true
   },
   "outputs": [],
   "source": [
    "'''\n",
    "Since a very tiny percentage of users who clicked the link in the email, we will undersample the majority class to balance\n",
    "the dataset.\n",
    "'''\n",
    "def undersample(X,y):\n",
    "    majority_X = X[y == 0]\n",
    "    majority_y = y[y == 0]\n",
    "    minority_y = y[y == 1]\n",
    "    minority_X = X[y == 1]\n",
    "    minority_size = y[y == 1].shape[0]\n",
    "    \n",
    "    inds = np.arange(minority_size)\n",
    "    samples = np.random.choice(inds, minority_size,replace=False)\n",
    "    \n",
    "    undersampled_X = np.concatenate((majority_X[samples],minority_X), axis=0)\n",
    "    undersampled_y = np.concatenate((majority_y[samples],minority_y), axis=0)\n",
    "    return (undersampled_X, undersampled_y)"
   ]
  },
  {
   "cell_type": "code",
   "execution_count": 21,
   "metadata": {
    "collapsed": false
   },
   "outputs": [],
   "source": [
    "# Split the data into a training set and validation set\n",
    "X_train, X_val, y_train, y_val = train_test_split(X,y,test_size=0.1)"
   ]
  },
  {
   "cell_type": "code",
   "execution_count": 22,
   "metadata": {
    "collapsed": false
   },
   "outputs": [],
   "source": [
    "# Undersample the training data to balance the classes\n",
    "X_sub,y_sub = undersample(X_train,y_train)"
   ]
  },
  {
   "cell_type": "code",
   "execution_count": 23,
   "metadata": {
    "collapsed": false
   },
   "outputs": [
    {
     "data": {
      "text/plain": [
       "GridSearchCV(cv=None, error_score='raise',\n",
       "       estimator=RandomForestClassifier(bootstrap=True, class_weight=None, criterion='gini',\n",
       "            max_depth=None, max_features='auto', max_leaf_nodes=None,\n",
       "            min_impurity_split=1e-07, min_samples_leaf=1,\n",
       "            min_samples_split=2, min_weight_fraction_leaf=0.0,\n",
       "            n_estimators=10, n_jobs=1, oob_score=False, random_state=None,\n",
       "            verbose=0, warm_start=False),\n",
       "       fit_params={}, iid=True, n_jobs=1,\n",
       "       param_grid={'n_estimators': [20, 30, 40, 50], 'max_features': ['auto', 'log2'], 'min_samples_split': [2, 3, 5, 7, 10], 'criterion': ['gini', 'entropy'], 'min_samples_leaf': [1, 2, 5, 10, 11, 12, 13, 14, 15]},\n",
       "       pre_dispatch='2*n_jobs', refit=True, return_train_score=True,\n",
       "       scoring='roc_auc', verbose=0)"
      ]
     },
     "execution_count": 23,
     "metadata": {},
     "output_type": "execute_result"
    }
   ],
   "source": [
    "# Train and tune a random forest classifer \n",
    "rf_params = {'n_estimators':[20,30,40,50],\n",
    "             'criterion':['gini','entropy'],\n",
    "             'max_features':['auto','log2'],\n",
    "             'min_samples_leaf':[1,2,5,10,11,12,13,14,15],\n",
    "             'min_samples_split':[2, 3, 5, 7,10]}\n",
    "rf_clf = GridSearchCV(RandomForestClassifier(),rf_params, scoring = 'roc_auc')\n",
    "rf_clf.fit(X_sub,y_sub)"
   ]
  },
  {
   "cell_type": "code",
   "execution_count": 24,
   "metadata": {
    "collapsed": false
   },
   "outputs": [
    {
     "data": {
      "text/plain": [
       "{'criterion': 'gini',\n",
       " 'max_features': 'auto',\n",
       " 'min_samples_leaf': 10,\n",
       " 'min_samples_split': 10,\n",
       " 'n_estimators': 40}"
      ]
     },
     "execution_count": 24,
     "metadata": {},
     "output_type": "execute_result"
    }
   ],
   "source": [
    "rf_clf.best_params_"
   ]
  },
  {
   "cell_type": "code",
   "execution_count": 25,
   "metadata": {
    "collapsed": false,
    "scrolled": true
   },
   "outputs": [
    {
     "data": {
      "text/plain": [
       "0.7087190485612529"
      ]
     },
     "execution_count": 25,
     "metadata": {},
     "output_type": "execute_result"
    }
   ],
   "source": [
    "rf_clf.best_score_"
   ]
  },
  {
   "cell_type": "code",
   "execution_count": 26,
   "metadata": {
    "collapsed": false
   },
   "outputs": [
    {
     "data": {
      "text/plain": [
       "GridSearchCV(cv=None, error_score='raise',\n",
       "       estimator=LogisticRegression(C=1.0, class_weight=None, dual=False, fit_intercept=True,\n",
       "          intercept_scaling=1, max_iter=100, multi_class='ovr', n_jobs=1,\n",
       "          penalty='l2', random_state=None, solver='liblinear', tol=0.0001,\n",
       "          verbose=0, warm_start=False),\n",
       "       fit_params={}, iid=True, n_jobs=1,\n",
       "       param_grid={'C': [0.1, 0.2, 0.3, 0.4]}, pre_dispatch='2*n_jobs',\n",
       "       refit=True, return_train_score=True, scoring='roc_auc', verbose=0)"
      ]
     },
     "execution_count": 26,
     "metadata": {},
     "output_type": "execute_result"
    }
   ],
   "source": [
    "# Train and tune a logistic regression classifer \n",
    "lr_params = {'C':[0.1,0.2, 0.3, 0.4]}\n",
    "lr_clf = GridSearchCV(LogisticRegression(),lr_params,scoring='roc_auc')\n",
    "lr_clf.fit(X_sub,y_sub)"
   ]
  },
  {
   "cell_type": "code",
   "execution_count": 27,
   "metadata": {
    "collapsed": false
   },
   "outputs": [
    {
     "data": {
      "text/plain": [
       "{'C': 0.1}"
      ]
     },
     "execution_count": 27,
     "metadata": {},
     "output_type": "execute_result"
    }
   ],
   "source": [
    "lr_clf.best_params_"
   ]
  },
  {
   "cell_type": "code",
   "execution_count": 28,
   "metadata": {
    "collapsed": false
   },
   "outputs": [
    {
     "data": {
      "text/plain": [
       "0.70400566736389847"
      ]
     },
     "execution_count": 28,
     "metadata": {},
     "output_type": "execute_result"
    }
   ],
   "source": [
    "lr_clf.best_score_"
   ]
  },
  {
   "cell_type": "code",
   "execution_count": 29,
   "metadata": {
    "collapsed": false
   },
   "outputs": [
    {
     "data": {
      "text/plain": [
       "GridSearchCV(cv=None, error_score='raise',\n",
       "       estimator=GradientBoostingClassifier(criterion='friedman_mse', init=None,\n",
       "              learning_rate=0.1, loss='deviance', max_depth=3,\n",
       "              max_features=None, max_leaf_nodes=None,\n",
       "              min_impurity_split=1e-07, min_samples_leaf=1,\n",
       "              min_samples_split=2, min_weight_fraction_leaf=0.0,\n",
       "              n_estimators=100, presort='auto', random_state=None,\n",
       "              subsample=1.0, verbose=0, warm_start=False),\n",
       "       fit_params={}, iid=True, n_jobs=1,\n",
       "       param_grid={'n_estimators': [100, 200], 'min_samples_split': [2, 3, 5, 7, 10], 'learning_rate': [0.1, 0.2, 0.3, 0.4], 'max_features': ['auto', 'log2'], 'min_samples_leaf': [1, 5, 7, 8]},\n",
       "       pre_dispatch='2*n_jobs', refit=True, return_train_score=True,\n",
       "       scoring='roc_auc', verbose=0)"
      ]
     },
     "execution_count": 29,
     "metadata": {},
     "output_type": "execute_result"
    }
   ],
   "source": [
    "# Train and tune a Gradient Boosting classifer \n",
    "gbc_params = {'learning_rate':[0.1,0.2,0.3,0.4],\n",
    "              'n_estimators':[100,200],\n",
    "              'min_samples_leaf':[1,5,7,8],\n",
    "              'min_samples_split':[2, 3, 5, 7,10],\n",
    "              'max_features':['auto','log2']\n",
    "             }\n",
    "gbc_clf = GridSearchCV(GradientBoostingClassifier(),gbc_params,scoring='roc_auc')\n",
    "gbc_clf.fit(X_sub,y_sub)"
   ]
  },
  {
   "cell_type": "code",
   "execution_count": 30,
   "metadata": {
    "collapsed": false
   },
   "outputs": [
    {
     "data": {
      "text/plain": [
       "{'learning_rate': 0.1,\n",
       " 'max_features': 'log2',\n",
       " 'min_samples_leaf': 7,\n",
       " 'min_samples_split': 5,\n",
       " 'n_estimators': 100}"
      ]
     },
     "execution_count": 30,
     "metadata": {},
     "output_type": "execute_result"
    }
   ],
   "source": [
    "gbc_clf.best_params_"
   ]
  },
  {
   "cell_type": "code",
   "execution_count": 31,
   "metadata": {
    "collapsed": false
   },
   "outputs": [
    {
     "data": {
      "text/plain": [
       "0.70944454651666766"
      ]
     },
     "execution_count": 31,
     "metadata": {},
     "output_type": "execute_result"
    }
   ],
   "source": [
    "gbc_clf.best_score_"
   ]
  },
  {
   "cell_type": "code",
   "execution_count": 32,
   "metadata": {
    "collapsed": false
   },
   "outputs": [
    {
     "data": {
      "text/plain": [
       "GridSearchCV(cv=None, error_score='raise',\n",
       "       estimator=SVC(C=1.0, cache_size=200, class_weight=None, coef0=0.0,\n",
       "  decision_function_shape=None, degree=3, gamma='auto', kernel='rbf',\n",
       "  max_iter=-1, probability=False, random_state=None, shrinking=True,\n",
       "  tol=0.001, verbose=False),\n",
       "       fit_params={}, iid=True, n_jobs=1,\n",
       "       param_grid={'kernel': ['rbf', 'sigmoid', 'linear', 'poly'], 'C': [0.1, 0.5, 1, 5, 10], 'coef0': [0.5, 0.6, 0.7], 'degree': [1, 3, 5]},\n",
       "       pre_dispatch='2*n_jobs', refit=True, return_train_score=True,\n",
       "       scoring='roc_auc', verbose=0)"
      ]
     },
     "execution_count": 32,
     "metadata": {},
     "output_type": "execute_result"
    }
   ],
   "source": [
    "# Train and tune a Support Vector classifer \n",
    "svc_params = {'kernel':['rbf','sigmoid','linear','poly'],\n",
    "              'C':[0.1,0.5,1,5,10],\n",
    "              'degree':[1,3,5],\n",
    "              'coef0':[0.5,0.6,0.7]\n",
    "             }\n",
    "svc_clf = GridSearchCV(SVC(),svc_params,scoring='roc_auc')\n",
    "svc_clf.fit(X_sub,y_sub)"
   ]
  },
  {
   "cell_type": "code",
   "execution_count": 33,
   "metadata": {
    "collapsed": false
   },
   "outputs": [
    {
     "data": {
      "text/plain": [
       "{'C': 1, 'coef0': 0.5, 'degree': 1, 'kernel': 'rbf'}"
      ]
     },
     "execution_count": 33,
     "metadata": {},
     "output_type": "execute_result"
    }
   ],
   "source": [
    "svc_clf.best_params_"
   ]
  },
  {
   "cell_type": "code",
   "execution_count": 34,
   "metadata": {
    "collapsed": false
   },
   "outputs": [
    {
     "data": {
      "text/plain": [
       "0.70696419149377199"
      ]
     },
     "execution_count": 34,
     "metadata": {},
     "output_type": "execute_result"
    }
   ],
   "source": [
    "svc_clf.best_score_"
   ]
  },
  {
   "cell_type": "code",
   "execution_count": 35,
   "metadata": {
    "collapsed": false
   },
   "outputs": [],
   "source": [
    "# Test models on the validation set\n",
    "lr = LogisticRegression(C=0.1)\n",
    "lr.fit(X_sub,y_sub)\n",
    "lr_pred = lr.predict(X_val)\n",
    "lr_fpr, lr_tpr, lr_thresholds = roc_curve(y_val, lr_pred)\n",
    "lr_recall = recall_score(y_val, lr_pred)\n",
    "lr_auc = auc(lr_fpr, lr_tpr)\n",
    "\n",
    "rf = RandomForestClassifier(criterion = 'entropy',\n",
    "                            max_features = 'auto',\n",
    "                            min_samples_leaf = 12,\n",
    "                            min_samples_split = 7,\n",
    "                            n_estimators= 40)\n",
    "rf.fit(X_sub,y_sub)\n",
    "rf_pred = rf.predict(X_val)\n",
    "rf_fpr, rf_tpr, rf_thresholds = roc_curve(y_val, rf_pred)\n",
    "rf_recall = recall_score(y_val, rf_pred)\n",
    "rf_auc = auc(rf_fpr, rf_tpr)\n",
    "\n",
    "gbc = GradientBoostingClassifier(learning_rate= 0.1,\n",
    "                                 max_features ='log2',\n",
    "                                 min_samples_leaf = 5,\n",
    "                                 min_samples_split = 2,\n",
    "                                 n_estimators =100)\n",
    "gbc.fit(X_sub,y_sub)\n",
    "gbc_pred = gbc.predict(X_val)\n",
    "gbc_fpr, gbc_tpr, gbc_thresholds = roc_curve(y_val, gbc_pred)\n",
    "gbc_recall = recall_score(y_val, gbc_pred)\n",
    "gbc_auc = auc(gbc_fpr, gbc_tpr)\n",
    "\n",
    "svc = SVC(C=1, coef0=0.6, degree=1,kernel='poly')\n",
    "svc.fit(X_sub,y_sub)\n",
    "svc_pred = svc.predict(X_val)\n",
    "svc_fpr, svc_tpr, svc_thresholds = roc_curve(y_val, svc_pred)\n",
    "svc_recall = recall_score(y_val, svc_pred)\n",
    "svc_auc = auc(svc_fpr, svc_tpr)"
   ]
  },
  {
   "cell_type": "code",
   "execution_count": 36,
   "metadata": {
    "collapsed": false
   },
   "outputs": [
    {
     "name": "stdout",
     "output_type": "stream",
     "text": [
      "Logistic Regression (AUC, Recall) (0.6664992452589148, 0.67179487179487174)\n",
      "Random Forest (AUC, Recall) (0.64289988670479037, 0.71794871794871795)\n",
      "Gradient Boosting Classifier (AUC, Recall) (0.64684706491445709, 0.68205128205128207)\n",
      "Support Vector Classifier (AUC, Recall) (0.65334355343533268, 0.64102564102564108)\n"
     ]
    }
   ],
   "source": [
    "print \"Logistic Regression (AUC, Recall) {0}\".format((lr_auc,lr_recall))\n",
    "print \"Random Forest (AUC, Recall) {0}\".format((rf_auc,rf_recall))\n",
    "print \"Gradient Boosting Classifier (AUC, Recall) {0}\".format((gbc_auc,gbc_recall))\n",
    "print \"Support Vector Classifier (AUC, Recall) {0}\".format((svc_auc,svc_recall))"
   ]
  },
  {
   "cell_type": "code",
   "execution_count": 37,
   "metadata": {
    "collapsed": false,
    "scrolled": true
   },
   "outputs": [
    {
     "data": {
      "text/plain": [
       "array([[4331, 3296],\n",
       "       [  55,  140]])"
      ]
     },
     "execution_count": 37,
     "metadata": {},
     "output_type": "execute_result"
    }
   ],
   "source": [
    "# THe Random Forest classifer appears to be the best. Let's check out it's confusion matrix.\n",
    "confusion_matrix(y_val,rf_pred)"
   ]
  },
  {
   "cell_type": "markdown",
   "metadata": {},
   "source": [
    "Q. By how much do you think your model would improve click through rate ( defined as # of\n",
    "users who click on the link / total users who received the email). How would you test\n",
    "that?  \n",
    "  \n",
    "**I would expect at least a 1% improvement in click through rate. I would use an A/B test to test this assumption. I would randomly split the users into a control group and a test group and launch another email campaign for both groups. Emails will be sent out in a random way in the first group, and the model will be used to target the emails to users in the test group. At the end of the campaign, I will run a statistical test for significance.\n",
    "**"
   ]
  },
  {
   "cell_type": "markdown",
   "metadata": {
    "collapsed": true
   },
   "source": [
    "Q. Did you find any interesting pattern on how the email campaign performed for different\n",
    "segments of users? Explain.\n",
    "\n",
    "** I noticed that the ideal times for users who click on the link in the email vary by country and by day of the week. See the bar plots below. **"
   ]
  },
  {
   "cell_type": "code",
   "execution_count": 38,
   "metadata": {
    "collapsed": true
   },
   "outputs": [],
   "source": [
    "def plot_hourly_counts(ax, df, atitle):\n",
    "    email_hours = [0,1,2,3,4,5,6,7,8,9,10,11,12,13,14,15,16,17,18,19,20,21,22,23]\n",
    "    email_counts = df.groupby(['hour','link_clicked'])['email_id'].count().to_dict()\n",
    "\n",
    "    counts_clicked = []\n",
    "    counts_noclicked = []\n",
    "    bar_width = 0.35\n",
    "    ind = np.arange(len(email_hours))\n",
    "\n",
    "    for e in email_hours:\n",
    "        if (e,1) in email_counts:\n",
    "            counts_clicked.append(email_counts[(e,1)])\n",
    "        else:\n",
    "            counts_clicked.append(0)\n",
    "        if (e,0) in email_counts:\n",
    "            counts_noclicked.append(email_counts[(e,0)])\n",
    "        else:\n",
    "            counts_noclicked.append(0)\n",
    "    ax.bar(ind,counts_clicked,bar_width,color='r',label='clicked')\n",
    "    ax.bar(ind+bar_width,counts_noclicked,bar_width,color='g',label='not clicked')\n",
    "    ax.set_title(atitle)"
   ]
  },
  {
   "cell_type": "code",
   "execution_count": 39,
   "metadata": {
    "collapsed": false
   },
   "outputs": [
    {
     "data": {
      "text/plain": [
       "<matplotlib.legend.Legend at 0xe283780>"
      ]
     },
     "execution_count": 39,
     "metadata": {},
     "output_type": "execute_result"
    },
    {
     "data": {
      "image/png": "[encoded data removed]",
      "text/plain": [
       "<matplotlib.figure.Figure at 0xe283978>"
      ]
     },
     "metadata": {},
     "output_type": "display_data"
    }
   ],
   "source": [
    "fig, axes = plt.subplots(7,1)\n",
    "fig.set_size_inches(18.5, 10.5)\n",
    "dow = ['Sunday','Monday','Tuesday','Wednesday','Thursday','Friday','Saturday']\n",
    "pos = 0\n",
    "for i in range(7):\n",
    "    df = non_outliers[non_outliers.weekday ==  dow[pos]]\n",
    "    plot_hourly_counts(axes[i], df, dow[pos])\n",
    "    pos += 1\n",
    "plt.legend()"
   ]
  },
  {
   "cell_type": "code",
   "execution_count": 40,
   "metadata": {
    "collapsed": false
   },
   "outputs": [
    {
     "data": {
      "text/plain": [
       "<matplotlib.legend.Legend at 0x14681ef0>"
      ]
     },
     "execution_count": 40,
     "metadata": {},
     "output_type": "execute_result"
    },
    {
     "data": {
      "image/png": "[encoded data removed]",
      "text/plain": [
       "<matplotlib.figure.Figure at 0x14dbaf60>"
      ]
     },
     "metadata": {},
     "output_type": "display_data"
    }
   ],
   "source": [
    "fig, axes = plt.subplots(7,1)\n",
    "fig.set_size_inches(18.5, 10.5)\n",
    "dow = ['Sunday','Monday','Tuesday','Wednesday','Thursday','Friday','Saturday']\n",
    "pos = 0\n",
    "us_emails = non_outliers[non_outliers.user_country == 'US']\n",
    "for i in range(7):\n",
    "    df = us_emails[us_emails.weekday ==  dow[pos]]\n",
    "    plot_hourly_counts(axes[i], df, dow[pos])\n",
    "    pos += 1\n",
    "plt.legend()"
   ]
  },
  {
   "cell_type": "code",
   "execution_count": 41,
   "metadata": {
    "collapsed": false
   },
   "outputs": [
    {
     "data": {
      "text/plain": [
       "<matplotlib.legend.Legend at 0xe13ed30>"
      ]
     },
     "execution_count": 41,
     "metadata": {},
     "output_type": "execute_result"
    },
    {
     "data": {
      "image/png": "[encoded data removed]",
      "text/plain": [
       "<matplotlib.figure.Figure at 0x15bede80>"
      ]
     },
     "metadata": {},
     "output_type": "display_data"
    }
   ],
   "source": [
    "fig, axes = plt.subplots(7,1)\n",
    "fig.set_size_inches(18.5, 10.5)\n",
    "dow = ['Sunday','Monday','Tuesday','Wednesday','Thursday','Friday','Saturday']\n",
    "pos = 0\n",
    "us_emails = non_outliers[non_outliers.user_country == 'UK']\n",
    "for i in range(7):\n",
    "    df = us_emails[us_emails.weekday ==  dow[pos]]\n",
    "    plot_hourly_counts(axes[i], df, dow[pos])\n",
    "    pos += 1\n",
    "plt.legend()"
   ]
  },
  {
   "cell_type": "code",
   "execution_count": 42,
   "metadata": {
    "collapsed": false
   },
   "outputs": [
    {
     "data": {
      "text/plain": [
       "<matplotlib.legend.Legend at 0x164bf710>"
      ]
     },
     "execution_count": 42,
     "metadata": {},
     "output_type": "execute_result"
    },
    {
     "data": {
      "image/png": "[encoded data removed]",
      "text/plain": [
       "<matplotlib.figure.Figure at 0x168c2c18>"
      ]
     },
     "metadata": {},
     "output_type": "display_data"
    }
   ],
   "source": [
    "fig, axes = plt.subplots(7,1)\n",
    "fig.set_size_inches(18.5, 10.5)\n",
    "dow = ['Sunday','Monday','Tuesday','Wednesday','Thursday','Friday','Saturday']\n",
    "pos = 0\n",
    "us_emails = non_outliers[non_outliers.user_country == 'ES']\n",
    "for i in range(7):\n",
    "    df = us_emails[us_emails.weekday ==  dow[pos]]\n",
    "    plot_hourly_counts(axes[i], df, dow[pos])\n",
    "    pos += 1\n",
    "plt.legend()"
   ]
  },
  {
   "cell_type": "code",
   "execution_count": 43,
   "metadata": {
    "collapsed": false,
    "scrolled": true
   },
   "outputs": [
    {
     "data": {
      "text/plain": [
       "<matplotlib.legend.Legend at 0x15bed8d0>"
      ]
     },
     "execution_count": 43,
     "metadata": {},
     "output_type": "execute_result"
    },
    {
     "data": {
      "image/png": "[encoded data removed]",
      "text/plain": [
       "<matplotlib.figure.Figure at 0x169e2a20>"
      ]
     },
     "metadata": {},
     "output_type": "display_data"
    }
   ],
   "source": [
    "fig, axes = plt.subplots(7,1)\n",
    "fig.set_size_inches(18.5, 10.5)\n",
    "dow = ['Sunday','Monday','Tuesday','Wednesday','Thursday','Friday','Saturday']\n",
    "pos = 0\n",
    "us_emails = non_outliers[non_outliers.user_country == 'FR']\n",
    "for i in range(7):\n",
    "    df = us_emails[us_emails.weekday ==  dow[pos]]\n",
    "    plot_hourly_counts(axes[i], df, dow[pos])\n",
    "    pos += 1\n",
    "plt.legend()"
   ]
  },
  {
   "cell_type": "code",
   "execution_count": null,
   "metadata": {
    "collapsed": true
   },
   "outputs": [],
   "source": []
  }
 ],
 "metadata": {
  "kernelspec": {
   "display_name": "Python 2",
   "language": "python",
   "name": "python2"
  },
  "language_info": {
   "codemirror_mode": {
    "name": "ipython",
    "version": 2
   },
   "file_extension": ".py",
   "mimetype": "text/x-python",
   "name": "python",
   "nbconvert_exporter": "python",
   "pygments_lexer": "ipython2",
   "version": "2.7.13"
  }
 },
 "nbformat": 4,
 "nbformat_minor": 0
}
